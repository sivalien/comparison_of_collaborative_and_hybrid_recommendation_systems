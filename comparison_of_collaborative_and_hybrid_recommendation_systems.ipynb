{
 "cells": [
  {
   "cell_type": "code",
   "execution_count": 1,
   "metadata": {
    "id": "fya24H9EkdqG"
   },
   "outputs": [],
   "source": [
    "import pandas as pd"
   ]
  },
  {
   "cell_type": "markdown",
   "metadata": {},
   "source": [
    "Считываем данные"
   ]
  },
  {
   "cell_type": "code",
   "execution_count": 2,
   "metadata": {
    "id": "8SxDI0CqkkT7"
   },
   "outputs": [],
   "source": [
    "data = pd.read_csv('archive-3/rating.csv')"
   ]
  },
  {
   "cell_type": "code",
   "execution_count": 684,
   "metadata": {
    "colab": {
     "base_uri": "https://localhost:8080/",
     "height": 419
    },
    "id": "-3a0gTwWhMbv",
    "outputId": "3917cea2-8fa5-42e9-b4d9-1dcdc2b48cd1"
   },
   "outputs": [
    {
     "data": {
      "text/html": [
       "<div>\n",
       "<style scoped>\n",
       "    .dataframe tbody tr th:only-of-type {\n",
       "        vertical-align: middle;\n",
       "    }\n",
       "\n",
       "    .dataframe tbody tr th {\n",
       "        vertical-align: top;\n",
       "    }\n",
       "\n",
       "    .dataframe thead th {\n",
       "        text-align: right;\n",
       "    }\n",
       "</style>\n",
       "<table border=\"1\" class=\"dataframe\">\n",
       "  <thead>\n",
       "    <tr style=\"text-align: right;\">\n",
       "      <th></th>\n",
       "      <th>userId</th>\n",
       "      <th>movieId</th>\n",
       "      <th>rating</th>\n",
       "      <th>timestamp</th>\n",
       "    </tr>\n",
       "  </thead>\n",
       "  <tbody>\n",
       "    <tr>\n",
       "      <th>0</th>\n",
       "      <td>1</td>\n",
       "      <td>2</td>\n",
       "      <td>3.5</td>\n",
       "      <td>2005-04-02 23:53:47</td>\n",
       "    </tr>\n",
       "    <tr>\n",
       "      <th>1</th>\n",
       "      <td>1</td>\n",
       "      <td>29</td>\n",
       "      <td>3.5</td>\n",
       "      <td>2005-04-02 23:31:16</td>\n",
       "    </tr>\n",
       "    <tr>\n",
       "      <th>2</th>\n",
       "      <td>1</td>\n",
       "      <td>32</td>\n",
       "      <td>3.5</td>\n",
       "      <td>2005-04-02 23:33:39</td>\n",
       "    </tr>\n",
       "    <tr>\n",
       "      <th>3</th>\n",
       "      <td>1</td>\n",
       "      <td>47</td>\n",
       "      <td>3.5</td>\n",
       "      <td>2005-04-02 23:32:07</td>\n",
       "    </tr>\n",
       "    <tr>\n",
       "      <th>4</th>\n",
       "      <td>1</td>\n",
       "      <td>50</td>\n",
       "      <td>3.5</td>\n",
       "      <td>2005-04-02 23:29:40</td>\n",
       "    </tr>\n",
       "    <tr>\n",
       "      <th>...</th>\n",
       "      <td>...</td>\n",
       "      <td>...</td>\n",
       "      <td>...</td>\n",
       "      <td>...</td>\n",
       "    </tr>\n",
       "    <tr>\n",
       "      <th>20000258</th>\n",
       "      <td>138493</td>\n",
       "      <td>68954</td>\n",
       "      <td>4.5</td>\n",
       "      <td>2009-11-13 15:42:00</td>\n",
       "    </tr>\n",
       "    <tr>\n",
       "      <th>20000259</th>\n",
       "      <td>138493</td>\n",
       "      <td>69526</td>\n",
       "      <td>4.5</td>\n",
       "      <td>2009-12-03 18:31:48</td>\n",
       "    </tr>\n",
       "    <tr>\n",
       "      <th>20000260</th>\n",
       "      <td>138493</td>\n",
       "      <td>69644</td>\n",
       "      <td>3.0</td>\n",
       "      <td>2009-12-07 18:10:57</td>\n",
       "    </tr>\n",
       "    <tr>\n",
       "      <th>20000261</th>\n",
       "      <td>138493</td>\n",
       "      <td>70286</td>\n",
       "      <td>5.0</td>\n",
       "      <td>2009-11-13 15:42:24</td>\n",
       "    </tr>\n",
       "    <tr>\n",
       "      <th>20000262</th>\n",
       "      <td>138493</td>\n",
       "      <td>71619</td>\n",
       "      <td>2.5</td>\n",
       "      <td>2009-10-17 20:25:36</td>\n",
       "    </tr>\n",
       "  </tbody>\n",
       "</table>\n",
       "<p>20000263 rows × 4 columns</p>\n",
       "</div>"
      ],
      "text/plain": [
       "          userId  movieId  rating            timestamp\n",
       "0              1        2     3.5  2005-04-02 23:53:47\n",
       "1              1       29     3.5  2005-04-02 23:31:16\n",
       "2              1       32     3.5  2005-04-02 23:33:39\n",
       "3              1       47     3.5  2005-04-02 23:32:07\n",
       "4              1       50     3.5  2005-04-02 23:29:40\n",
       "...          ...      ...     ...                  ...\n",
       "20000258  138493    68954     4.5  2009-11-13 15:42:00\n",
       "20000259  138493    69526     4.5  2009-12-03 18:31:48\n",
       "20000260  138493    69644     3.0  2009-12-07 18:10:57\n",
       "20000261  138493    70286     5.0  2009-11-13 15:42:24\n",
       "20000262  138493    71619     2.5  2009-10-17 20:25:36\n",
       "\n",
       "[20000263 rows x 4 columns]"
      ]
     },
     "execution_count": 684,
     "metadata": {},
     "output_type": "execute_result"
    }
   ],
   "source": [
    "data"
   ]
  },
  {
   "cell_type": "code",
   "execution_count": 178,
   "metadata": {},
   "outputs": [
    {
     "data": {
      "text/html": [
       "<div>\n",
       "<style scoped>\n",
       "    .dataframe tbody tr th:only-of-type {\n",
       "        vertical-align: middle;\n",
       "    }\n",
       "\n",
       "    .dataframe tbody tr th {\n",
       "        vertical-align: top;\n",
       "    }\n",
       "\n",
       "    .dataframe thead th {\n",
       "        text-align: right;\n",
       "    }\n",
       "</style>\n",
       "<table border=\"1\" class=\"dataframe\">\n",
       "  <thead>\n",
       "    <tr style=\"text-align: right;\">\n",
       "      <th></th>\n",
       "      <th>movieId</th>\n",
       "      <th>title</th>\n",
       "      <th>genres</th>\n",
       "    </tr>\n",
       "  </thead>\n",
       "  <tbody>\n",
       "    <tr>\n",
       "      <th>0</th>\n",
       "      <td>1</td>\n",
       "      <td>Toy Story (1995)</td>\n",
       "      <td>Adventure|Animation|Children|Comedy|Fantasy</td>\n",
       "    </tr>\n",
       "    <tr>\n",
       "      <th>1</th>\n",
       "      <td>2</td>\n",
       "      <td>Jumanji (1995)</td>\n",
       "      <td>Adventure|Children|Fantasy</td>\n",
       "    </tr>\n",
       "    <tr>\n",
       "      <th>2</th>\n",
       "      <td>3</td>\n",
       "      <td>Grumpier Old Men (1995)</td>\n",
       "      <td>Comedy|Romance</td>\n",
       "    </tr>\n",
       "    <tr>\n",
       "      <th>3</th>\n",
       "      <td>4</td>\n",
       "      <td>Waiting to Exhale (1995)</td>\n",
       "      <td>Comedy|Drama|Romance</td>\n",
       "    </tr>\n",
       "    <tr>\n",
       "      <th>4</th>\n",
       "      <td>5</td>\n",
       "      <td>Father of the Bride Part II (1995)</td>\n",
       "      <td>Comedy</td>\n",
       "    </tr>\n",
       "    <tr>\n",
       "      <th>5</th>\n",
       "      <td>6</td>\n",
       "      <td>Heat (1995)</td>\n",
       "      <td>Action|Crime|Thriller</td>\n",
       "    </tr>\n",
       "    <tr>\n",
       "      <th>6</th>\n",
       "      <td>7</td>\n",
       "      <td>Sabrina (1995)</td>\n",
       "      <td>Comedy|Romance</td>\n",
       "    </tr>\n",
       "    <tr>\n",
       "      <th>7</th>\n",
       "      <td>8</td>\n",
       "      <td>Tom and Huck (1995)</td>\n",
       "      <td>Adventure|Children</td>\n",
       "    </tr>\n",
       "    <tr>\n",
       "      <th>8</th>\n",
       "      <td>9</td>\n",
       "      <td>Sudden Death (1995)</td>\n",
       "      <td>Action</td>\n",
       "    </tr>\n",
       "    <tr>\n",
       "      <th>9</th>\n",
       "      <td>10</td>\n",
       "      <td>GoldenEye (1995)</td>\n",
       "      <td>Action|Adventure|Thriller</td>\n",
       "    </tr>\n",
       "  </tbody>\n",
       "</table>\n",
       "</div>"
      ],
      "text/plain": [
       "   movieId                               title  \\\n",
       "0        1                    Toy Story (1995)   \n",
       "1        2                      Jumanji (1995)   \n",
       "2        3             Grumpier Old Men (1995)   \n",
       "3        4            Waiting to Exhale (1995)   \n",
       "4        5  Father of the Bride Part II (1995)   \n",
       "5        6                         Heat (1995)   \n",
       "6        7                      Sabrina (1995)   \n",
       "7        8                 Tom and Huck (1995)   \n",
       "8        9                 Sudden Death (1995)   \n",
       "9       10                    GoldenEye (1995)   \n",
       "\n",
       "                                        genres  \n",
       "0  Adventure|Animation|Children|Comedy|Fantasy  \n",
       "1                   Adventure|Children|Fantasy  \n",
       "2                               Comedy|Romance  \n",
       "3                         Comedy|Drama|Romance  \n",
       "4                                       Comedy  \n",
       "5                        Action|Crime|Thriller  \n",
       "6                               Comedy|Romance  \n",
       "7                           Adventure|Children  \n",
       "8                                       Action  \n",
       "9                    Action|Adventure|Thriller  "
      ]
     },
     "execution_count": 178,
     "metadata": {},
     "output_type": "execute_result"
    }
   ],
   "source": [
    "movie = pd.read_csv('archive-3/movie.csv')\n",
    "movie.head(10)"
   ]
  },
  {
   "cell_type": "code",
   "execution_count": 4,
   "metadata": {},
   "outputs": [
    {
     "name": "stdout",
     "output_type": "stream",
     "text": [
      "27278\n",
      "27278\n"
     ]
    }
   ],
   "source": [
    "links = pd.read_csv('archive-3/link.csv')\n",
    "\n",
    "print(len(links))\n",
    "print(len(links.movieId.unique()))"
   ]
  },
  {
   "cell_type": "code",
   "execution_count": 179,
   "metadata": {},
   "outputs": [],
   "source": [
    "movie = pd.concat([movie, links.drop(['movieId'], axis=1)], axis=1)"
   ]
  },
  {
   "cell_type": "code",
   "execution_count": 180,
   "metadata": {},
   "outputs": [],
   "source": [
    "data = data[data.movieId.isin(movie.movieId.unique())]"
   ]
  },
  {
   "cell_type": "code",
   "execution_count": 181,
   "metadata": {},
   "outputs": [],
   "source": [
    "movie = movie[movie.movieId.isin(data.movieId.unique())]"
   ]
  },
  {
   "cell_type": "code",
   "execution_count": 182,
   "metadata": {},
   "outputs": [
    {
     "name": "stdout",
     "output_type": "stream",
     "text": [
      "26744\n",
      "26744\n"
     ]
    }
   ],
   "source": [
    "print(len(movie.movieId.unique()))\n",
    "print(len(data.movieId.unique()))"
   ]
  },
  {
   "cell_type": "code",
   "execution_count": 26,
   "metadata": {},
   "outputs": [],
   "source": [
    "genome = pd.read_csv('archive-3/genome_scores.csv')"
   ]
  },
  {
   "cell_type": "code",
   "execution_count": 217,
   "metadata": {
    "scrolled": true
   },
   "outputs": [],
   "source": [
    "genome = genome[genome.movieId.isin(movie.movieId.unique())]\n",
    "grouped = genome.groupby('movieId').agg({'relevance': ['max']}).reset_index()"
   ]
  },
  {
   "cell_type": "code",
   "execution_count": 161,
   "metadata": {},
   "outputs": [],
   "source": [
    "tags = pd.Series([0]*len(grouped))\n",
    "for i in range(len(grouped.values)):\n",
    "    if len(genome[(genome.movieId == grouped.values[i][0]) & (genome.relevance == grouped.values[i][1])].tagId) > 1:\n",
    "        tags[i] = genome[(genome.movieId == grouped.values[i][0]) & (genome.relevance == grouped.values[i][1])].tagId.reset_index().loc[0, 'tagId']\n",
    "    else:\n",
    "        tags[i] = genome[(genome.movieId == grouped.values[i][0]) & (genome.relevance == grouped.values[i][1])].tagId"
   ]
  },
  {
   "cell_type": "code",
   "execution_count": 189,
   "metadata": {},
   "outputs": [],
   "source": [
    "movie = movie.reset_index()"
   ]
  },
  {
   "cell_type": "code",
   "execution_count": 190,
   "metadata": {
    "scrolled": true
   },
   "outputs": [
    {
     "data": {
      "text/html": [
       "<div>\n",
       "<style scoped>\n",
       "    .dataframe tbody tr th:only-of-type {\n",
       "        vertical-align: middle;\n",
       "    }\n",
       "\n",
       "    .dataframe tbody tr th {\n",
       "        vertical-align: top;\n",
       "    }\n",
       "\n",
       "    .dataframe thead th {\n",
       "        text-align: right;\n",
       "    }\n",
       "</style>\n",
       "<table border=\"1\" class=\"dataframe\">\n",
       "  <thead>\n",
       "    <tr style=\"text-align: right;\">\n",
       "      <th></th>\n",
       "      <th>index</th>\n",
       "      <th>movieId</th>\n",
       "      <th>title</th>\n",
       "      <th>genres</th>\n",
       "      <th>imdbId</th>\n",
       "      <th>tmdbId</th>\n",
       "      <th>tagId</th>\n",
       "    </tr>\n",
       "  </thead>\n",
       "  <tbody>\n",
       "    <tr>\n",
       "      <th>0</th>\n",
       "      <td>0</td>\n",
       "      <td>1</td>\n",
       "      <td>Toy Story (1995)</td>\n",
       "      <td>Adventure|Animation|Children|Comedy|Fantasy</td>\n",
       "      <td>114709</td>\n",
       "      <td>862.0</td>\n",
       "      <td>1036</td>\n",
       "    </tr>\n",
       "    <tr>\n",
       "      <th>1</th>\n",
       "      <td>1</td>\n",
       "      <td>2</td>\n",
       "      <td>Jumanji (1995)</td>\n",
       "      <td>Adventure|Children|Fantasy</td>\n",
       "      <td>113497</td>\n",
       "      <td>8844.0</td>\n",
       "      <td>29</td>\n",
       "    </tr>\n",
       "    <tr>\n",
       "      <th>2</th>\n",
       "      <td>2</td>\n",
       "      <td>3</td>\n",
       "      <td>Grumpier Old Men (1995)</td>\n",
       "      <td>Comedy|Romance</td>\n",
       "      <td>113228</td>\n",
       "      <td>15602.0</td>\n",
       "      <td>451</td>\n",
       "    </tr>\n",
       "    <tr>\n",
       "      <th>3</th>\n",
       "      <td>3</td>\n",
       "      <td>4</td>\n",
       "      <td>Waiting to Exhale (1995)</td>\n",
       "      <td>Comedy|Drama|Romance</td>\n",
       "      <td>114885</td>\n",
       "      <td>31357.0</td>\n",
       "      <td>1116</td>\n",
       "    </tr>\n",
       "    <tr>\n",
       "      <th>4</th>\n",
       "      <td>4</td>\n",
       "      <td>5</td>\n",
       "      <td>Father of the Bride Part II (1995)</td>\n",
       "      <td>Comedy</td>\n",
       "      <td>113041</td>\n",
       "      <td>11862.0</td>\n",
       "      <td>451</td>\n",
       "    </tr>\n",
       "    <tr>\n",
       "      <th>...</th>\n",
       "      <td>...</td>\n",
       "      <td>...</td>\n",
       "      <td>...</td>\n",
       "      <td>...</td>\n",
       "      <td>...</td>\n",
       "      <td>...</td>\n",
       "      <td>...</td>\n",
       "    </tr>\n",
       "    <tr>\n",
       "      <th>26739</th>\n",
       "      <td>27273</td>\n",
       "      <td>131254</td>\n",
       "      <td>Kein Bund für's Leben (2007)</td>\n",
       "      <td>Comedy</td>\n",
       "      <td>466713</td>\n",
       "      <td>4436.0</td>\n",
       "      <td>0</td>\n",
       "    </tr>\n",
       "    <tr>\n",
       "      <th>26740</th>\n",
       "      <td>27274</td>\n",
       "      <td>131256</td>\n",
       "      <td>Feuer, Eis &amp; Dosenbier (2002)</td>\n",
       "      <td>Comedy</td>\n",
       "      <td>277703</td>\n",
       "      <td>9274.0</td>\n",
       "      <td>0</td>\n",
       "    </tr>\n",
       "    <tr>\n",
       "      <th>26741</th>\n",
       "      <td>27275</td>\n",
       "      <td>131258</td>\n",
       "      <td>The Pirates (2014)</td>\n",
       "      <td>Adventure</td>\n",
       "      <td>3485166</td>\n",
       "      <td>285213.0</td>\n",
       "      <td>0</td>\n",
       "    </tr>\n",
       "    <tr>\n",
       "      <th>26742</th>\n",
       "      <td>27276</td>\n",
       "      <td>131260</td>\n",
       "      <td>Rentun Ruusu (2001)</td>\n",
       "      <td>(no genres listed)</td>\n",
       "      <td>249110</td>\n",
       "      <td>32099.0</td>\n",
       "      <td>0</td>\n",
       "    </tr>\n",
       "    <tr>\n",
       "      <th>26743</th>\n",
       "      <td>27277</td>\n",
       "      <td>131262</td>\n",
       "      <td>Innocence (2014)</td>\n",
       "      <td>Adventure|Fantasy|Horror</td>\n",
       "      <td>1724965</td>\n",
       "      <td>286971.0</td>\n",
       "      <td>0</td>\n",
       "    </tr>\n",
       "  </tbody>\n",
       "</table>\n",
       "<p>26744 rows × 7 columns</p>\n",
       "</div>"
      ],
      "text/plain": [
       "       index  movieId                               title  \\\n",
       "0          0        1                    Toy Story (1995)   \n",
       "1          1        2                      Jumanji (1995)   \n",
       "2          2        3             Grumpier Old Men (1995)   \n",
       "3          3        4            Waiting to Exhale (1995)   \n",
       "4          4        5  Father of the Bride Part II (1995)   \n",
       "...      ...      ...                                 ...   \n",
       "26739  27273   131254        Kein Bund für's Leben (2007)   \n",
       "26740  27274   131256       Feuer, Eis & Dosenbier (2002)   \n",
       "26741  27275   131258                  The Pirates (2014)   \n",
       "26742  27276   131260                 Rentun Ruusu (2001)   \n",
       "26743  27277   131262                    Innocence (2014)   \n",
       "\n",
       "                                            genres   imdbId    tmdbId  tagId  \n",
       "0      Adventure|Animation|Children|Comedy|Fantasy   114709     862.0   1036  \n",
       "1                       Adventure|Children|Fantasy   113497    8844.0     29  \n",
       "2                                   Comedy|Romance   113228   15602.0    451  \n",
       "3                             Comedy|Drama|Romance   114885   31357.0   1116  \n",
       "4                                           Comedy   113041   11862.0    451  \n",
       "...                                            ...      ...       ...    ...  \n",
       "26739                                       Comedy   466713    4436.0      0  \n",
       "26740                                       Comedy   277703    9274.0      0  \n",
       "26741                                    Adventure  3485166  285213.0      0  \n",
       "26742                           (no genres listed)   249110   32099.0      0  \n",
       "26743                     Adventure|Fantasy|Horror  1724965  286971.0      0  \n",
       "\n",
       "[26744 rows x 7 columns]"
      ]
     },
     "execution_count": 190,
     "metadata": {},
     "output_type": "execute_result"
    }
   ],
   "source": [
    "movie['tagId'] = [0] * len(movie)\n",
    "indexes = np.array([i for i in range(len(movie))])\n",
    "indexes = indexes[movie.movieId.isin(grouped.movieId.unique())]\n",
    "for i in range(len(indexes)):\n",
    "    movie.loc[indexes[i], 'tagId'] = tags[i]\n",
    "movie"
   ]
  },
  {
   "cell_type": "markdown",
   "metadata": {},
   "source": [
    "Разобьем данные на test и train части, в train войдут более ранние записи, в test более поздние, это моделирует реальную жизнь: мы делаем предсказания на основе более поздних записей"
   ]
  },
  {
   "cell_type": "code",
   "execution_count": 212,
   "metadata": {
    "id": "5KwNvTHQxr8B"
   },
   "outputs": [
    {
     "name": "stdout",
     "output_type": "stream",
     "text": [
      "6000079\n",
      "14000184\n"
     ]
    }
   ],
   "source": [
    "test = pd.DataFrame(columns=data.columns)\n",
    "train = pd.DataFrame(columns=data.columns)\n",
    "test_ratio = 0.3\n",
    "\n",
    "temp = data.sort_values('timestamp').reset_index()\n",
    "temp.drop('index', axis=1, inplace=True)\n",
    "\n",
    "dummy_test = temp.iloc[int(len(data) * (1.0 - test_ratio)):]\n",
    "dummy_train = temp.iloc[: int(len(data) * (1.0 - test_ratio))]\n",
    "\n",
    "print(len(dummy_test))\n",
    "print(len(dummy_train))\n",
    "\n",
    "test = pd.concat([test, dummy_test])\n",
    "train = pd.concat([train, dummy_train])"
   ]
  },
  {
   "cell_type": "code",
   "execution_count": 10,
   "metadata": {
    "colab": {
     "base_uri": "https://localhost:8080/"
    },
    "id": "0lYarqREKmC7",
    "outputId": "c0dbb39c-7f83-42a9-c1af-b55bf015afa0"
   },
   "outputs": [
    {
     "name": "stdout",
     "output_type": "stream",
     "text": [
      "Requirement already satisfied: surprise in /Users/macbook/opt/anaconda3/lib/python3.8/site-packages (0.1)\n",
      "Requirement already satisfied: scikit-surprise in /Users/macbook/opt/anaconda3/lib/python3.8/site-packages (from surprise) (1.1.1)\n",
      "Requirement already satisfied: six>=1.10.0 in /Users/macbook/opt/anaconda3/lib/python3.8/site-packages (from scikit-surprise->surprise) (1.15.0)\n",
      "Requirement already satisfied: scipy>=1.0.0 in /Users/macbook/opt/anaconda3/lib/python3.8/site-packages (from scikit-surprise->surprise) (1.6.2)\n",
      "Requirement already satisfied: joblib>=0.11 in /Users/macbook/opt/anaconda3/lib/python3.8/site-packages (from scikit-surprise->surprise) (1.0.1)\n",
      "Requirement already satisfied: numpy>=1.11.2 in /Users/macbook/opt/anaconda3/lib/python3.8/site-packages (from scikit-surprise->surprise) (1.20.1)\n"
     ]
    }
   ],
   "source": [
    "!pip install surprise"
   ]
  },
  {
   "cell_type": "code",
   "execution_count": 11,
   "metadata": {
    "id": "bN3EvKq3KhHW"
   },
   "outputs": [],
   "source": [
    "from surprise.prediction_algorithms import SVD\n",
    "from surprise import Reader\n",
    "from surprise import Dataset"
   ]
  },
  {
   "cell_type": "code",
   "execution_count": 12,
   "metadata": {
    "id": "LUjXJ_IgLiAn"
   },
   "outputs": [],
   "source": [
    "reader = Reader(rating_scale = (0.5, 5))\n",
    "\n",
    "train_svd = Dataset.load_from_df(train.drop(['timestamp'], axis=1), reader)\n",
    "test_svd = Dataset.load_from_df(test.drop(['timestamp'], axis=1), reader)"
   ]
  },
  {
   "cell_type": "code",
   "execution_count": 13,
   "metadata": {},
   "outputs": [],
   "source": [
    "import numpy as np"
   ]
  },
  {
   "cell_type": "code",
   "execution_count": 14,
   "metadata": {
    "id": "Dcb69C0aOrIb"
   },
   "outputs": [],
   "source": [
    "train_svd = train_svd.build_full_trainset()"
   ]
  },
  {
   "cell_type": "code",
   "execution_count": 17,
   "metadata": {},
   "outputs": [],
   "source": [
    "testset = test_svd.df.values.tolist()"
   ]
  },
  {
   "cell_type": "markdown",
   "metadata": {},
   "source": [
    "В качестве метрик я выбрала mse и r2, поскольку наши модели построены так, что они пытаются предсказать оценку конкретного пользователя конкретного товара, а не пытаются получить топ n рекомендаций для пользователя"
   ]
  },
  {
   "cell_type": "code",
   "execution_count": 20,
   "metadata": {},
   "outputs": [],
   "source": [
    "from sklearn.metrics import r2_score, mean_squared_error"
   ]
  },
  {
   "cell_type": "code",
   "execution_count": 216,
   "metadata": {},
   "outputs": [
    {
     "name": "stdout",
     "output_type": "stream",
     "text": [
      "fitted\n",
      "predicted\n",
      "0.150539686641882 0.8776921927599622\n",
      "fitted\n",
      "predicted\n",
      "0.15491810557494579 0.8731682567340513\n",
      "fitted\n",
      "predicted\n",
      "0.15780694729932576 0.8701834041308919\n",
      "fitted\n",
      "predicted\n",
      "0.15083573452401178 0.8773863057035073\n",
      "fitted\n",
      "predicted\n",
      "0.15795655455883528 0.8700288246625084\n",
      "fitted\n",
      "predicted\n",
      "0.15987646902608987 0.8680451016890187\n",
      "mse:  0.8680451016890187\n",
      "r2_score:  0.15987646902608987\n"
     ]
    }
   ],
   "source": [
    "epoch_list = [5, 10]\n",
    "lr_list = [0.001, 0.003, 0.005]\n",
    "best_r2_score = -10000000000\n",
    "best_mse = 10000000000\n",
    "for epoch in epoch_list:\n",
    "    for lr in lr_list:\n",
    "        svd = SVD(n_factors=50, n_epochs=epoch, lr_all=lr)\n",
    "        svd.fit(train_svd)\n",
    "        print('fitted')\n",
    "        pred = svd.test(testset)\n",
    "        print('predicted')\n",
    "        ypred = []\n",
    "        for i in range(len(pred)):\n",
    "            ypred.append(pred[i].est)\n",
    "        r2 = r2_score(test.rating.to_list(), ypred)\n",
    "        mse = mean_squared_error(ypred, test.rating.to_list())\n",
    "        print(r2, mse)\n",
    "        if r2 > best_r2_score:\n",
    "            best_r2_score = r2\n",
    "        if mse < best_mse:\n",
    "            best_mse = mse\n",
    "\n",
    "print('mse: ', best_mse)\n",
    "print('r2_score: ', best_r2_score)"
   ]
  },
  {
   "cell_type": "code",
   "execution_count": 191,
   "metadata": {},
   "outputs": [
    {
     "data": {
      "text/plain": [
       "243"
      ]
     },
     "execution_count": 191,
     "metadata": {},
     "output_type": "execute_result"
    }
   ],
   "source": [
    "movie.isna().sum().sum()"
   ]
  },
  {
   "cell_type": "code",
   "execution_count": 192,
   "metadata": {},
   "outputs": [
    {
     "data": {
      "text/plain": [
       "243"
      ]
     },
     "execution_count": 192,
     "metadata": {},
     "output_type": "execute_result"
    }
   ],
   "source": [
    "movie.tmdbId.isna().sum()"
   ]
  },
  {
   "cell_type": "code",
   "execution_count": 193,
   "metadata": {},
   "outputs": [],
   "source": [
    "movie = movie.fillna(movie.tmdbId.mean())"
   ]
  },
  {
   "cell_type": "code",
   "execution_count": 194,
   "metadata": {},
   "outputs": [
    {
     "data": {
      "text/plain": [
       "0"
      ]
     },
     "execution_count": 194,
     "metadata": {},
     "output_type": "execute_result"
    }
   ],
   "source": [
    "movie.isna().sum().sum()"
   ]
  },
  {
   "cell_type": "code",
   "execution_count": 195,
   "metadata": {},
   "outputs": [
    {
     "name": "stdout",
     "output_type": "stream",
     "text": [
      "11'09\\\\\"01 - September 11 (2002)\"\n",
      "\"\n",
      "Babe Ruth Story, The (1948) \n",
      " \n",
      "Heroes of Telemark, The (1965) \n",
      " \n",
      "Babylon 5\n",
      "5\n",
      "\\\\\"Great Performances\\\"\\\" Cats (1998)\"\n",
      "\"\n",
      "Truth, The (2010) \n",
      " \n",
      "Wedding Song, The (2008) \n",
      " \n",
      "White Hell of Pitz Palu, The (Die weiße Hölle vom Piz Palü) (1929) \n",
      " \n",
      "Pool, The (Swimming Pool - Der Tod feiert mit) (2001) \n",
      " \n",
      "Possession of David O'Reilly, The (2010) \n",
      " \n",
      "Horrible Way to Die, A (2010) \n",
      " \n",
      "Legend of Suram Fortress, The (Ambavi Suramis tsikhitsa) (1986) \n",
      " \n",
      "Silence Before Bach, The (Die Stille vor Bach) (2007) \n",
      " \n",
      "Poseidon Adventure, The (2005) \n",
      " \n",
      "Nun, The (La monja) (2005) \n",
      " \n",
      "Eleventh Year, The (Odinnadtsatyy) (1928) \n",
      " \n",
      "Fairy, The (La fée) (2011) \n",
      " \n",
      "Lost, Lost, Lost (1976) \n",
      " \n",
      "Craigslist Killer, The (2011) \n",
      " \n",
      "Rites of May, The (Itim) (1977) \n",
      " \n",
      "Age of the Medici, The (L'età di Cosimo de Medici) (1973) \n",
      " \n",
      "Den tatuerade änkan (Tattooed Widow, The) (1998) \n",
      " \n",
      "Woman's Face, A (En kvinnas ansikte) (1938) \n",
      " \n",
      "Act of Seeing with One's Own Eyes, The (1971) \n",
      " \n",
      "Net 2.0, The (2006) \n",
      " \n",
      "World According to Dick Cheney, The (2013) \n",
      " \n",
      "Suicide Shop, The (Le magasin des suicides) (2012) \n",
      " \n",
      "Chameleon, The (2010) \n",
      " \n",
      "Gentle Breeze in the Village, A (Tennen kokekkô) (2007) \n",
      " \n",
      "Brazil: In the Shadow of the Stadiums\n",
      "s\n",
      "Diebuster \\\\\"Top wo Narae 2\\\"\\\" (2004)\"\n",
      "\"\n",
      "Slaying the Badger\n",
      "r\n",
      "Tatort: Im Schmerz geboren\n",
      "n\n",
      "National Theatre Live: Frankenstein\n",
      "n\n",
      "The Court-Martial of Jackie Robinson\n",
      "n\n",
      "In Our Garden\n",
      "n\n",
      "Stephen Fry In America - New World\n",
      "d\n",
      "Two: The Story of Roman & Nyro\n",
      "o\n",
      "Li'l Quinquin\n",
      "n\n",
      "A Year Along the Abandoned Road\n",
      "d\n",
      "Body/Cialo\n",
      "o\n",
      "Polskie gówno\n",
      "o\n",
      "The Third Reich: The Rise & Fall\n",
      "l\n",
      "My Own Man\n",
      "n\n",
      "Moving Alan\n",
      "n\n",
      "Michael Laudrup - en Fodboldspiller\n",
      "r\n"
     ]
    }
   ],
   "source": [
    "for title in movie.title:\n",
    "    if title[-1] != \")\":\n",
    "        print(title)\n",
    "        print(title[-1])"
   ]
  },
  {
   "cell_type": "code",
   "execution_count": 196,
   "metadata": {},
   "outputs": [],
   "source": [
    "def f(x):\n",
    "    i = -1\n",
    "    while x[i] == \" \":\n",
    "        i -= 1\n",
    "    if x[i] != ')':\n",
    "        i -= 1\n",
    "    if x[i] == ')' and x[i - 1].isdigit():\n",
    "        return int(x[-4 + i:i])\n",
    "    return np.NaN"
   ]
  },
  {
   "cell_type": "code",
   "execution_count": 197,
   "metadata": {},
   "outputs": [],
   "source": [
    "movie['year'] = movie.title.apply(lambda x: f(x))"
   ]
  },
  {
   "cell_type": "code",
   "execution_count": 198,
   "metadata": {},
   "outputs": [],
   "source": [
    "movie['title'] = movie.title.apply(lambda x: x.split('(')[0])"
   ]
  },
  {
   "cell_type": "code",
   "execution_count": 199,
   "metadata": {},
   "outputs": [],
   "source": [
    "movie = movie.fillna(movie.year.mean())"
   ]
  },
  {
   "cell_type": "code",
   "execution_count": 71,
   "metadata": {},
   "outputs": [
    {
     "name": "stderr",
     "output_type": "stream",
     "text": [
      "/Users/macbook/opt/anaconda3/lib/python3.8/site-packages/lightfm/_lightfm_fast.py:9: UserWarning: LightFM was compiled without OpenMP support. Only a single thread will be used.\n",
      "  warnings.warn(\n"
     ]
    }
   ],
   "source": [
    "from lightfm.data import Dataset\n",
    "\n",
    "dataset = Dataset()\n",
    "dataset.fit(data.userId.unique(), \n",
    "         data.movieId.unique()\n",
    "        )\n",
    "train_matrix, weights_matrix = dataset.build_interactions([tuple(i) for i in train.drop(['timestamp'], axis=1).values])\n",
    "test_matrix, weights_matrix = dataset.build_interactions([tuple(i) for i in test.drop(['timestamp'], axis=1).values])"
   ]
  },
  {
   "cell_type": "code",
   "execution_count": 200,
   "metadata": {},
   "outputs": [],
   "source": [
    "train_features = movie[movie.movieId.isin(train.movieId.unique())]"
   ]
  },
  {
   "cell_type": "code",
   "execution_count": 201,
   "metadata": {},
   "outputs": [],
   "source": [
    "def feature_colon_value(my_list):\n",
    "    result = []\n",
    "    ll = ['tmdbId', 'title', 'year', 'imdbId', 'tagId']\n",
    "    aa = my_list\n",
    "    for x,y in zip(ll,aa):\n",
    "        res = str(x) +\":\"+ str(y)\n",
    "        result.append(res)\n",
    "    return result"
   ]
  },
  {
   "cell_type": "code",
   "execution_count": 202,
   "metadata": {},
   "outputs": [],
   "source": [
    "ad_subset = train_features[['tmdbId', 'title', 'year', 'imdbId', 'tagId']]\n",
    "ad_list = [list(x) for x in ad_subset.values]\n",
    "feature_list = []\n",
    "for item in ad_list:\n",
    "    feature_list.append(feature_colon_value(item))    "
   ]
  },
  {
   "cell_type": "code",
   "execution_count": 203,
   "metadata": {},
   "outputs": [],
   "source": [
    "item_tuple = list(zip(train_features.movieId, feature_list))"
   ]
  },
  {
   "cell_type": "code",
   "execution_count": 204,
   "metadata": {},
   "outputs": [],
   "source": [
    "uf = []\n",
    "col = ['imdbId']*len(movie.imdbId.unique()) + ['tmdbId']*len(movie.tmdbId.unique()) + ['year']*len(movie.year.unique()) + ['title']*len(movie.title.unique())+ ['tagId']*len(movie.tagId.unique())\n",
    "unique_f1 = list(movie.imdbId.unique()) + list(movie.tmdbId.unique()) + list(movie.year.unique()) + list(movie.title.unique()) + list(movie.tagId.unique())\n",
    "\n",
    "for x,y in zip(col, unique_f1):\n",
    "    res = str(x)+ \":\" +str(y)\n",
    "    uf.append(res)"
   ]
  },
  {
   "cell_type": "code",
   "execution_count": 205,
   "metadata": {},
   "outputs": [],
   "source": [
    "dataset.fit_partial(item_features=uf)"
   ]
  },
  {
   "cell_type": "code",
   "execution_count": 206,
   "metadata": {},
   "outputs": [],
   "source": [
    "train_features = dataset.build_item_features(item_tuple, normalize= False)"
   ]
  },
  {
   "cell_type": "code",
   "execution_count": 88,
   "metadata": {},
   "outputs": [
    {
     "data": {
      "text/plain": [
       "array([[1., 0., 0., ..., 0., 0., 0.],\n",
       "       [0., 1., 0., ..., 0., 0., 0.],\n",
       "       [0., 0., 1., ..., 0., 0., 0.],\n",
       "       ...,\n",
       "       [0., 0., 0., ..., 0., 0., 0.],\n",
       "       [0., 0., 0., ..., 0., 0., 0.],\n",
       "       [0., 0., 0., ..., 0., 0., 0.]], dtype=float32)"
      ]
     },
     "execution_count": 88,
     "metadata": {},
     "output_type": "execute_result"
    }
   ],
   "source": [
    "train_features.toarray()"
   ]
  },
  {
   "cell_type": "code",
   "execution_count": 207,
   "metadata": {},
   "outputs": [],
   "source": [
    "test_features = movie[movie.movieId.isin(test.movieId.unique())]"
   ]
  },
  {
   "cell_type": "code",
   "execution_count": 208,
   "metadata": {},
   "outputs": [],
   "source": [
    "ad_subset = test_features[['tmdbId', 'title', 'year', 'imdbId', 'tagId']]\n",
    "ad_list = [list(x) for x in ad_subset.values]\n",
    "feature_list = []\n",
    "for item in ad_list:\n",
    "    feature_list.append(feature_colon_value(item))  \n",
    "item_tuple = list(zip(test_features.movieId, feature_list))"
   ]
  },
  {
   "cell_type": "code",
   "execution_count": 209,
   "metadata": {},
   "outputs": [],
   "source": [
    "test_features = dataset.build_item_features(item_tuple, normalize= False)"
   ]
  },
  {
   "cell_type": "code",
   "execution_count": 94,
   "metadata": {},
   "outputs": [
    {
     "name": "stdout",
     "output_type": "stream",
     "text": [
      "(138493, 26744)\n",
      "(138493, 26744)\n"
     ]
    }
   ],
   "source": [
    "print(train_matrix.toarray().shape)\n",
    "print(test_matrix.toarray().shape)"
   ]
  },
  {
   "cell_type": "code",
   "execution_count": 208,
   "metadata": {},
   "outputs": [
    {
     "name": "stdout",
     "output_type": "stream",
     "text": [
      "Collecting lightfm\n",
      "  Downloading lightfm-1.16.tar.gz (310 kB)\n",
      "\u001b[K     |████████████████████████████████| 310 kB 809 kB/s eta 0:00:01\n",
      "\u001b[?25hRequirement already satisfied: numpy in /Users/macbook/opt/anaconda3/lib/python3.8/site-packages (from lightfm) (1.20.1)\n",
      "Requirement already satisfied: scipy>=0.17.0 in /Users/macbook/opt/anaconda3/lib/python3.8/site-packages (from lightfm) (1.6.2)\n",
      "Requirement already satisfied: requests in /Users/macbook/opt/anaconda3/lib/python3.8/site-packages (from lightfm) (2.25.1)\n",
      "Requirement already satisfied: scikit-learn in /Users/macbook/opt/anaconda3/lib/python3.8/site-packages (from lightfm) (0.24.1)\n",
      "Requirement already satisfied: idna<3,>=2.5 in /Users/macbook/opt/anaconda3/lib/python3.8/site-packages (from requests->lightfm) (2.10)\n",
      "Requirement already satisfied: urllib3<1.27,>=1.21.1 in /Users/macbook/opt/anaconda3/lib/python3.8/site-packages (from requests->lightfm) (1.26.4)\n",
      "Requirement already satisfied: chardet<5,>=3.0.2 in /Users/macbook/opt/anaconda3/lib/python3.8/site-packages (from requests->lightfm) (4.0.0)\n",
      "Requirement already satisfied: certifi>=2017.4.17 in /Users/macbook/opt/anaconda3/lib/python3.8/site-packages (from requests->lightfm) (2020.12.5)\n",
      "Requirement already satisfied: joblib>=0.11 in /Users/macbook/opt/anaconda3/lib/python3.8/site-packages (from scikit-learn->lightfm) (1.0.1)\n",
      "Requirement already satisfied: threadpoolctl>=2.0.0 in /Users/macbook/opt/anaconda3/lib/python3.8/site-packages (from scikit-learn->lightfm) (2.1.0)\n",
      "Building wheels for collected packages: lightfm\n",
      "  Building wheel for lightfm (setup.py) ... \u001b[?25ldone\n",
      "\u001b[?25h  Created wheel for lightfm: filename=lightfm-1.16-cp38-cp38-macosx_10_9_x86_64.whl size=446297 sha256=3570adfa6fba2d532c46964f40ddf68a7594e15c56bd28287efcba3b3c0a4387\n",
      "  Stored in directory: /Users/macbook/Library/Caches/pip/wheels/ec/bb/51/9c487d021c1373b691d13cadca0b65b6852627b1f3f43550fa\n",
      "Successfully built lightfm\n",
      "Installing collected packages: lightfm\n",
      "Successfully installed lightfm-1.16\n"
     ]
    }
   ],
   "source": [
    "!pip3 install lightfm"
   ]
  },
  {
   "cell_type": "code",
   "execution_count": 95,
   "metadata": {},
   "outputs": [],
   "source": [
    "from lightfm import LightFM"
   ]
  },
  {
   "cell_type": "code",
   "execution_count": 96,
   "metadata": {},
   "outputs": [],
   "source": [
    "from lightfm.evaluation import auc_score"
   ]
  },
  {
   "cell_type": "code",
   "execution_count": 97,
   "metadata": {},
   "outputs": [],
   "source": [
    "test = test[(test.movieId <= 26665) & (test.userId <= 138487)]"
   ]
  },
  {
   "cell_type": "code",
   "execution_count": 210,
   "metadata": {},
   "outputs": [
    {
     "name": "stdout",
     "output_type": "stream",
     "text": [
      "13.293961523607713 -11.577102262187385\n",
      "13.29395748367812 -11.577098440105642\n",
      "13.293972669258258 -11.577112806823491\n",
      "12.866994868391435 -11.173159218147196\n",
      "12.86713582162033 -11.173292570659978\n",
      "12.867114585033312 -11.173272479227776\n",
      "12.666989420809019 -10.98393879932986\n",
      "12.66764460946053 -10.984558657801424\n",
      "12.667251872593996 -10.984187098750064\n",
      "13.865258135656617 -12.117592461366954\n",
      "13.86516218172968 -12.117501681628392\n",
      "13.865576610487961 -12.117893762864977\n",
      "14.052808216722168 -12.295029152804197\n",
      "14.052123477300709 -12.294381337048799\n",
      "14.051005125093889 -12.293323290502977\n",
      "14.225605200305488 -12.458508287993924\n",
      "14.219304372789333 -12.452547224253342\n",
      "14.214349804818532 -12.447859824795847\n",
      "13.687350673015496 -11.94927842293152\n",
      "13.664373892337512 -11.927540634708674\n",
      "13.639220327254165 -11.90374344229541\n",
      "13.797165893377574 -12.053172003034472\n",
      "13.773946772628546 -12.031204942607825\n",
      "13.761780149955511 -12.019694388942355\n",
      "13.964213704643585 -12.211211982406779\n",
      "13.94973118041968 -12.19751040911313\n",
      "13.945812876937149 -12.193803394954365\n",
      "13.755127301143977 -12.013400286188338\n",
      "13.73916509622722 -11.998298822022704\n",
      "13.733176054591164 -11.992632731521736\n",
      "13.911511099483018 -12.161351295401552\n",
      "13.916513301491788 -12.166083760294631\n",
      "13.888917478088873 -12.139976005105828\n",
      "14.107442139976799 -12.346717014134152\n",
      "14.106081408799708 -12.345429658582892\n",
      "14.110203888166916 -12.349329838712276\n",
      "best_mse:  12.666989420809019\n",
      "best_r2:  -10.98393879932986\n"
     ]
    }
   ],
   "source": [
    "loss_list = ['logistic', 'bpr', 'warp', 'warp-kos']\n",
    "lr_list = [0.001, 0.003, 0.005]\n",
    "component_list = [25, 50, 75]\n",
    "best_mse = 1000000000\n",
    "best_r2 = -1000000000\n",
    "for loss in loss_list:\n",
    "    for lr in lr_list:\n",
    "        for component in component_list:\n",
    "            lfm = LightFM(no_components=component, loss=loss, learning_rate=lr)\n",
    "            lfm.fit(train_matrix, item_features=train_features)\n",
    "            pred = lfm.predict(np.array(test.userId.tolist()), np.array(test.movieId.tolist()))\n",
    "            r2 = r2_score(test.rating.to_list(), pred)\n",
    "            mse = mean_squared_error(test.rating.to_list(), pred)\n",
    "            if mse < best_mse:\n",
    "                best_mse = mse\n",
    "            if r2 > best_r2:\n",
    "                best_r2 = r2\n",
    "            print(mse, r2)\n",
    "print('best_mse: ', best_mse)\n",
    "print('best_r2: ', best_r2)"
   ]
  },
  {
   "cell_type": "markdown",
   "metadata": {},
   "source": [
    "Оценивая метрики, которые мы получили на двух моделей, можно сделать вывод, что SVD алгоритм лучше справляется с тем, чтобы делать предсказания"
   ]
  },
  {
   "cell_type": "code",
   "execution_count": null,
   "metadata": {},
   "outputs": [],
   "source": []
  }
 ],
 "metadata": {
  "accelerator": "GPU",
  "colab": {
   "name": "Untitled2.ipynb",
   "provenance": []
  },
  "kernelspec": {
   "display_name": "Python 3",
   "language": "python",
   "name": "python3"
  },
  "language_info": {
   "codemirror_mode": {
    "name": "ipython",
    "version": 3
   },
   "file_extension": ".py",
   "mimetype": "text/x-python",
   "name": "python",
   "nbconvert_exporter": "python",
   "pygments_lexer": "ipython3",
   "version": "3.8.8"
  }
 },
 "nbformat": 4,
 "nbformat_minor": 1
}
